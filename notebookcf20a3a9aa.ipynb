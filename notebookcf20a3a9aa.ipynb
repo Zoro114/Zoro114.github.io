{
 "cells": [
  {
   "cell_type": "code",
   "execution_count": 1,
   "id": "e87e63b8",
   "metadata": {
    "execution": {
     "iopub.execute_input": "2022-04-10T07:57:29.315300Z",
     "iopub.status.busy": "2022-04-10T07:57:29.314665Z",
     "iopub.status.idle": "2022-04-10T07:57:30.583425Z",
     "shell.execute_reply": "2022-04-10T07:57:30.582778Z",
     "shell.execute_reply.started": "2022-04-10T07:53:36.175428Z"
    },
    "papermill": {
     "duration": 1.299015,
     "end_time": "2022-04-10T07:57:30.583604",
     "exception": false,
     "start_time": "2022-04-10T07:57:29.284589",
     "status": "completed"
    },
    "tags": []
   },
   "outputs": [],
   "source": [
    "import numpy as np\n",
    "import pandas as pd\n",
    "from sklearn import datasets\n",
    "from sklearn.preprocessing import StandardScaler\n",
    "import matplotlib.pyplot as plt\n",
    "import seaborn as sns\n",
    "from sklearn.model_selection import train_test_split\n",
    "from sklearn.linear_model import LinearRegression\n",
    "from sklearn import metrics"
   ]
  },
  {
   "cell_type": "code",
   "execution_count": 2,
   "id": "4c0e4107",
   "metadata": {
    "execution": {
     "iopub.execute_input": "2022-04-10T07:57:30.632139Z",
     "iopub.status.busy": "2022-04-10T07:57:30.631208Z",
     "iopub.status.idle": "2022-04-10T07:57:30.654503Z",
     "shell.execute_reply": "2022-04-10T07:57:30.654951Z",
     "shell.execute_reply.started": "2022-04-10T07:53:37.826434Z"
    },
    "papermill": {
     "duration": 0.049193,
     "end_time": "2022-04-10T07:57:30.655112",
     "exception": false,
     "start_time": "2022-04-10T07:57:30.605919",
     "status": "completed"
    },
    "tags": []
   },
   "outputs": [
    {
     "name": "stderr",
     "output_type": "stream",
     "text": [
      "/opt/conda/lib/python3.7/site-packages/sklearn/utils/deprecation.py:87: FutureWarning: Function load_boston is deprecated; `load_boston` is deprecated in 1.0 and will be removed in 1.2.\n",
      "\n",
      "    The Boston housing prices dataset has an ethical problem. You can refer to\n",
      "    the documentation of this function for further details.\n",
      "\n",
      "    The scikit-learn maintainers therefore strongly discourage the use of this\n",
      "    dataset unless the purpose of the code is to study and educate about\n",
      "    ethical issues in data science and machine learning.\n",
      "\n",
      "    In this special case, you can fetch the dataset from the original\n",
      "    source::\n",
      "\n",
      "        import pandas as pd\n",
      "        import numpy as np\n",
      "\n",
      "\n",
      "        data_url = \"http://lib.stat.cmu.edu/datasets/boston\"\n",
      "        raw_df = pd.read_csv(data_url, sep=\"\\s+\", skiprows=22, header=None)\n",
      "        data = np.hstack([raw_df.values[::2, :], raw_df.values[1::2, :2]])\n",
      "        target = raw_df.values[1::2, 2]\n",
      "\n",
      "    Alternative datasets include the California housing dataset (i.e.\n",
      "    :func:`~sklearn.datasets.fetch_california_housing`) and the Ames housing\n",
      "    dataset. You can load the datasets as follows::\n",
      "\n",
      "        from sklearn.datasets import fetch_california_housing\n",
      "        housing = fetch_california_housing()\n",
      "\n",
      "    for the California housing dataset and::\n",
      "\n",
      "        from sklearn.datasets import fetch_openml\n",
      "        housing = fetch_openml(name=\"house_prices\", as_frame=True)\n",
      "\n",
      "    for the Ames housing dataset.\n",
      "    \n",
      "  warnings.warn(msg, category=FutureWarning)\n"
     ]
    },
    {
     "data": {
      "text/plain": [
       "{'data': array([[6.3200e-03, 1.8000e+01, 2.3100e+00, ..., 1.5300e+01, 3.9690e+02,\n",
       "         4.9800e+00],\n",
       "        [2.7310e-02, 0.0000e+00, 7.0700e+00, ..., 1.7800e+01, 3.9690e+02,\n",
       "         9.1400e+00],\n",
       "        [2.7290e-02, 0.0000e+00, 7.0700e+00, ..., 1.7800e+01, 3.9283e+02,\n",
       "         4.0300e+00],\n",
       "        ...,\n",
       "        [6.0760e-02, 0.0000e+00, 1.1930e+01, ..., 2.1000e+01, 3.9690e+02,\n",
       "         5.6400e+00],\n",
       "        [1.0959e-01, 0.0000e+00, 1.1930e+01, ..., 2.1000e+01, 3.9345e+02,\n",
       "         6.4800e+00],\n",
       "        [4.7410e-02, 0.0000e+00, 1.1930e+01, ..., 2.1000e+01, 3.9690e+02,\n",
       "         7.8800e+00]]),\n",
       " 'target': array([24. , 21.6, 34.7, 33.4, 36.2, 28.7, 22.9, 27.1, 16.5, 18.9, 15. ,\n",
       "        18.9, 21.7, 20.4, 18.2, 19.9, 23.1, 17.5, 20.2, 18.2, 13.6, 19.6,\n",
       "        15.2, 14.5, 15.6, 13.9, 16.6, 14.8, 18.4, 21. , 12.7, 14.5, 13.2,\n",
       "        13.1, 13.5, 18.9, 20. , 21. , 24.7, 30.8, 34.9, 26.6, 25.3, 24.7,\n",
       "        21.2, 19.3, 20. , 16.6, 14.4, 19.4, 19.7, 20.5, 25. , 23.4, 18.9,\n",
       "        35.4, 24.7, 31.6, 23.3, 19.6, 18.7, 16. , 22.2, 25. , 33. , 23.5,\n",
       "        19.4, 22. , 17.4, 20.9, 24.2, 21.7, 22.8, 23.4, 24.1, 21.4, 20. ,\n",
       "        20.8, 21.2, 20.3, 28. , 23.9, 24.8, 22.9, 23.9, 26.6, 22.5, 22.2,\n",
       "        23.6, 28.7, 22.6, 22. , 22.9, 25. , 20.6, 28.4, 21.4, 38.7, 43.8,\n",
       "        33.2, 27.5, 26.5, 18.6, 19.3, 20.1, 19.5, 19.5, 20.4, 19.8, 19.4,\n",
       "        21.7, 22.8, 18.8, 18.7, 18.5, 18.3, 21.2, 19.2, 20.4, 19.3, 22. ,\n",
       "        20.3, 20.5, 17.3, 18.8, 21.4, 15.7, 16.2, 18. , 14.3, 19.2, 19.6,\n",
       "        23. , 18.4, 15.6, 18.1, 17.4, 17.1, 13.3, 17.8, 14. , 14.4, 13.4,\n",
       "        15.6, 11.8, 13.8, 15.6, 14.6, 17.8, 15.4, 21.5, 19.6, 15.3, 19.4,\n",
       "        17. , 15.6, 13.1, 41.3, 24.3, 23.3, 27. , 50. , 50. , 50. , 22.7,\n",
       "        25. , 50. , 23.8, 23.8, 22.3, 17.4, 19.1, 23.1, 23.6, 22.6, 29.4,\n",
       "        23.2, 24.6, 29.9, 37.2, 39.8, 36.2, 37.9, 32.5, 26.4, 29.6, 50. ,\n",
       "        32. , 29.8, 34.9, 37. , 30.5, 36.4, 31.1, 29.1, 50. , 33.3, 30.3,\n",
       "        34.6, 34.9, 32.9, 24.1, 42.3, 48.5, 50. , 22.6, 24.4, 22.5, 24.4,\n",
       "        20. , 21.7, 19.3, 22.4, 28.1, 23.7, 25. , 23.3, 28.7, 21.5, 23. ,\n",
       "        26.7, 21.7, 27.5, 30.1, 44.8, 50. , 37.6, 31.6, 46.7, 31.5, 24.3,\n",
       "        31.7, 41.7, 48.3, 29. , 24. , 25.1, 31.5, 23.7, 23.3, 22. , 20.1,\n",
       "        22.2, 23.7, 17.6, 18.5, 24.3, 20.5, 24.5, 26.2, 24.4, 24.8, 29.6,\n",
       "        42.8, 21.9, 20.9, 44. , 50. , 36. , 30.1, 33.8, 43.1, 48.8, 31. ,\n",
       "        36.5, 22.8, 30.7, 50. , 43.5, 20.7, 21.1, 25.2, 24.4, 35.2, 32.4,\n",
       "        32. , 33.2, 33.1, 29.1, 35.1, 45.4, 35.4, 46. , 50. , 32.2, 22. ,\n",
       "        20.1, 23.2, 22.3, 24.8, 28.5, 37.3, 27.9, 23.9, 21.7, 28.6, 27.1,\n",
       "        20.3, 22.5, 29. , 24.8, 22. , 26.4, 33.1, 36.1, 28.4, 33.4, 28.2,\n",
       "        22.8, 20.3, 16.1, 22.1, 19.4, 21.6, 23.8, 16.2, 17.8, 19.8, 23.1,\n",
       "        21. , 23.8, 23.1, 20.4, 18.5, 25. , 24.6, 23. , 22.2, 19.3, 22.6,\n",
       "        19.8, 17.1, 19.4, 22.2, 20.7, 21.1, 19.5, 18.5, 20.6, 19. , 18.7,\n",
       "        32.7, 16.5, 23.9, 31.2, 17.5, 17.2, 23.1, 24.5, 26.6, 22.9, 24.1,\n",
       "        18.6, 30.1, 18.2, 20.6, 17.8, 21.7, 22.7, 22.6, 25. , 19.9, 20.8,\n",
       "        16.8, 21.9, 27.5, 21.9, 23.1, 50. , 50. , 50. , 50. , 50. , 13.8,\n",
       "        13.8, 15. , 13.9, 13.3, 13.1, 10.2, 10.4, 10.9, 11.3, 12.3,  8.8,\n",
       "         7.2, 10.5,  7.4, 10.2, 11.5, 15.1, 23.2,  9.7, 13.8, 12.7, 13.1,\n",
       "        12.5,  8.5,  5. ,  6.3,  5.6,  7.2, 12.1,  8.3,  8.5,  5. , 11.9,\n",
       "        27.9, 17.2, 27.5, 15. , 17.2, 17.9, 16.3,  7. ,  7.2,  7.5, 10.4,\n",
       "         8.8,  8.4, 16.7, 14.2, 20.8, 13.4, 11.7,  8.3, 10.2, 10.9, 11. ,\n",
       "         9.5, 14.5, 14.1, 16.1, 14.3, 11.7, 13.4,  9.6,  8.7,  8.4, 12.8,\n",
       "        10.5, 17.1, 18.4, 15.4, 10.8, 11.8, 14.9, 12.6, 14.1, 13. , 13.4,\n",
       "        15.2, 16.1, 17.8, 14.9, 14.1, 12.7, 13.5, 14.9, 20. , 16.4, 17.7,\n",
       "        19.5, 20.2, 21.4, 19.9, 19. , 19.1, 19.1, 20.1, 19.9, 19.6, 23.2,\n",
       "        29.8, 13.8, 13.3, 16.7, 12. , 14.6, 21.4, 23. , 23.7, 25. , 21.8,\n",
       "        20.6, 21.2, 19.1, 20.6, 15.2,  7. ,  8.1, 13.6, 20.1, 21.8, 24.5,\n",
       "        23.1, 19.7, 18.3, 21.2, 17.5, 16.8, 22.4, 20.6, 23.9, 22. , 11.9]),\n",
       " 'feature_names': array(['CRIM', 'ZN', 'INDUS', 'CHAS', 'NOX', 'RM', 'AGE', 'DIS', 'RAD',\n",
       "        'TAX', 'PTRATIO', 'B', 'LSTAT'], dtype='<U7'),\n",
       " 'DESCR': \".. _boston_dataset:\\n\\nBoston house prices dataset\\n---------------------------\\n\\n**Data Set Characteristics:**  \\n\\n    :Number of Instances: 506 \\n\\n    :Number of Attributes: 13 numeric/categorical predictive. Median Value (attribute 14) is usually the target.\\n\\n    :Attribute Information (in order):\\n        - CRIM     per capita crime rate by town\\n        - ZN       proportion of residential land zoned for lots over 25,000 sq.ft.\\n        - INDUS    proportion of non-retail business acres per town\\n        - CHAS     Charles River dummy variable (= 1 if tract bounds river; 0 otherwise)\\n        - NOX      nitric oxides concentration (parts per 10 million)\\n        - RM       average number of rooms per dwelling\\n        - AGE      proportion of owner-occupied units built prior to 1940\\n        - DIS      weighted distances to five Boston employment centres\\n        - RAD      index of accessibility to radial highways\\n        - TAX      full-value property-tax rate per $10,000\\n        - PTRATIO  pupil-teacher ratio by town\\n        - B        1000(Bk - 0.63)^2 where Bk is the proportion of black people by town\\n        - LSTAT    % lower status of the population\\n        - MEDV     Median value of owner-occupied homes in $1000's\\n\\n    :Missing Attribute Values: None\\n\\n    :Creator: Harrison, D. and Rubinfeld, D.L.\\n\\nThis is a copy of UCI ML housing dataset.\\nhttps://archive.ics.uci.edu/ml/machine-learning-databases/housing/\\n\\n\\nThis dataset was taken from the StatLib library which is maintained at Carnegie Mellon University.\\n\\nThe Boston house-price data of Harrison, D. and Rubinfeld, D.L. 'Hedonic\\nprices and the demand for clean air', J. Environ. Economics & Management,\\nvol.5, 81-102, 1978.   Used in Belsley, Kuh & Welsch, 'Regression diagnostics\\n...', Wiley, 1980.   N.B. Various transformations are used in the table on\\npages 244-261 of the latter.\\n\\nThe Boston house-price data has been used in many machine learning papers that address regression\\nproblems.   \\n     \\n.. topic:: References\\n\\n   - Belsley, Kuh & Welsch, 'Regression diagnostics: Identifying Influential Data and Sources of Collinearity', Wiley, 1980. 244-261.\\n   - Quinlan,R. (1993). Combining Instance-Based and Model-Based Learning. In Proceedings on the Tenth International Conference of Machine Learning, 236-243, University of Massachusetts, Amherst. Morgan Kaufmann.\\n\",\n",
       " 'filename': 'boston_house_prices.csv',\n",
       " 'data_module': 'sklearn.datasets.data'}"
      ]
     },
     "execution_count": 2,
     "metadata": {},
     "output_type": "execute_result"
    }
   ],
   "source": [
    "boston_dataset=datasets.load_boston()\n",
    "boston_dataset"
   ]
  },
  {
   "cell_type": "code",
   "execution_count": 3,
   "id": "763eea98",
   "metadata": {
    "execution": {
     "iopub.execute_input": "2022-04-10T07:57:30.703420Z",
     "iopub.status.busy": "2022-04-10T07:57:30.702423Z",
     "iopub.status.idle": "2022-04-10T07:57:30.705249Z",
     "shell.execute_reply": "2022-04-10T07:57:30.705662Z",
     "shell.execute_reply.started": "2022-04-10T07:53:37.858448Z"
    },
    "papermill": {
     "duration": 0.029839,
     "end_time": "2022-04-10T07:57:30.705847",
     "exception": false,
     "start_time": "2022-04-10T07:57:30.676008",
     "status": "completed"
    },
    "tags": []
   },
   "outputs": [],
   "source": [
    "x=boston_dataset.data\n",
    "y=boston_dataset.target\n"
   ]
  },
  {
   "cell_type": "code",
   "execution_count": 4,
   "id": "320ae40e",
   "metadata": {
    "execution": {
     "iopub.execute_input": "2022-04-10T07:57:30.757686Z",
     "iopub.status.busy": "2022-04-10T07:57:30.756773Z",
     "iopub.status.idle": "2022-04-10T07:57:30.787977Z",
     "shell.execute_reply": "2022-04-10T07:57:30.788480Z",
     "shell.execute_reply.started": "2022-04-10T07:53:37.866080Z"
    },
    "papermill": {
     "duration": 0.057257,
     "end_time": "2022-04-10T07:57:30.788685",
     "exception": false,
     "start_time": "2022-04-10T07:57:30.731428",
     "status": "completed"
    },
    "tags": []
   },
   "outputs": [
    {
     "data": {
      "text/html": [
       "<div>\n",
       "<style scoped>\n",
       "    .dataframe tbody tr th:only-of-type {\n",
       "        vertical-align: middle;\n",
       "    }\n",
       "\n",
       "    .dataframe tbody tr th {\n",
       "        vertical-align: top;\n",
       "    }\n",
       "\n",
       "    .dataframe thead th {\n",
       "        text-align: right;\n",
       "    }\n",
       "</style>\n",
       "<table border=\"1\" class=\"dataframe\">\n",
       "  <thead>\n",
       "    <tr style=\"text-align: right;\">\n",
       "      <th></th>\n",
       "      <th>CRIM</th>\n",
       "      <th>ZN</th>\n",
       "      <th>INDUS</th>\n",
       "      <th>CHAS</th>\n",
       "      <th>NOX</th>\n",
       "      <th>RM</th>\n",
       "      <th>AGE</th>\n",
       "      <th>DIS</th>\n",
       "      <th>RAD</th>\n",
       "      <th>TAX</th>\n",
       "      <th>PTRATIO</th>\n",
       "      <th>B</th>\n",
       "      <th>LSTAT</th>\n",
       "    </tr>\n",
       "  </thead>\n",
       "  <tbody>\n",
       "    <tr>\n",
       "      <th>0</th>\n",
       "      <td>0.00632</td>\n",
       "      <td>18.0</td>\n",
       "      <td>2.31</td>\n",
       "      <td>0.0</td>\n",
       "      <td>0.538</td>\n",
       "      <td>6.575</td>\n",
       "      <td>65.2</td>\n",
       "      <td>4.0900</td>\n",
       "      <td>1.0</td>\n",
       "      <td>296.0</td>\n",
       "      <td>15.3</td>\n",
       "      <td>396.90</td>\n",
       "      <td>4.98</td>\n",
       "    </tr>\n",
       "    <tr>\n",
       "      <th>1</th>\n",
       "      <td>0.02731</td>\n",
       "      <td>0.0</td>\n",
       "      <td>7.07</td>\n",
       "      <td>0.0</td>\n",
       "      <td>0.469</td>\n",
       "      <td>6.421</td>\n",
       "      <td>78.9</td>\n",
       "      <td>4.9671</td>\n",
       "      <td>2.0</td>\n",
       "      <td>242.0</td>\n",
       "      <td>17.8</td>\n",
       "      <td>396.90</td>\n",
       "      <td>9.14</td>\n",
       "    </tr>\n",
       "    <tr>\n",
       "      <th>2</th>\n",
       "      <td>0.02729</td>\n",
       "      <td>0.0</td>\n",
       "      <td>7.07</td>\n",
       "      <td>0.0</td>\n",
       "      <td>0.469</td>\n",
       "      <td>7.185</td>\n",
       "      <td>61.1</td>\n",
       "      <td>4.9671</td>\n",
       "      <td>2.0</td>\n",
       "      <td>242.0</td>\n",
       "      <td>17.8</td>\n",
       "      <td>392.83</td>\n",
       "      <td>4.03</td>\n",
       "    </tr>\n",
       "    <tr>\n",
       "      <th>3</th>\n",
       "      <td>0.03237</td>\n",
       "      <td>0.0</td>\n",
       "      <td>2.18</td>\n",
       "      <td>0.0</td>\n",
       "      <td>0.458</td>\n",
       "      <td>6.998</td>\n",
       "      <td>45.8</td>\n",
       "      <td>6.0622</td>\n",
       "      <td>3.0</td>\n",
       "      <td>222.0</td>\n",
       "      <td>18.7</td>\n",
       "      <td>394.63</td>\n",
       "      <td>2.94</td>\n",
       "    </tr>\n",
       "    <tr>\n",
       "      <th>4</th>\n",
       "      <td>0.06905</td>\n",
       "      <td>0.0</td>\n",
       "      <td>2.18</td>\n",
       "      <td>0.0</td>\n",
       "      <td>0.458</td>\n",
       "      <td>7.147</td>\n",
       "      <td>54.2</td>\n",
       "      <td>6.0622</td>\n",
       "      <td>3.0</td>\n",
       "      <td>222.0</td>\n",
       "      <td>18.7</td>\n",
       "      <td>396.90</td>\n",
       "      <td>5.33</td>\n",
       "    </tr>\n",
       "  </tbody>\n",
       "</table>\n",
       "</div>"
      ],
      "text/plain": [
       "      CRIM    ZN  INDUS  CHAS    NOX     RM   AGE     DIS  RAD    TAX  \\\n",
       "0  0.00632  18.0   2.31   0.0  0.538  6.575  65.2  4.0900  1.0  296.0   \n",
       "1  0.02731   0.0   7.07   0.0  0.469  6.421  78.9  4.9671  2.0  242.0   \n",
       "2  0.02729   0.0   7.07   0.0  0.469  7.185  61.1  4.9671  2.0  242.0   \n",
       "3  0.03237   0.0   2.18   0.0  0.458  6.998  45.8  6.0622  3.0  222.0   \n",
       "4  0.06905   0.0   2.18   0.0  0.458  7.147  54.2  6.0622  3.0  222.0   \n",
       "\n",
       "   PTRATIO       B  LSTAT  \n",
       "0     15.3  396.90   4.98  \n",
       "1     17.8  396.90   9.14  \n",
       "2     17.8  392.83   4.03  \n",
       "3     18.7  394.63   2.94  \n",
       "4     18.7  396.90   5.33  "
      ]
     },
     "execution_count": 4,
     "metadata": {},
     "output_type": "execute_result"
    }
   ],
   "source": [
    "df=pd.DataFrame(x,columns=boston_dataset.feature_names)\n",
    "df.head()"
   ]
  },
  {
   "cell_type": "code",
   "execution_count": 5,
   "id": "9e8b3419",
   "metadata": {
    "execution": {
     "iopub.execute_input": "2022-04-10T07:57:30.837838Z",
     "iopub.status.busy": "2022-04-10T07:57:30.836845Z",
     "iopub.status.idle": "2022-04-10T07:57:30.889435Z",
     "shell.execute_reply": "2022-04-10T07:57:30.889944Z",
     "shell.execute_reply.started": "2022-04-10T07:53:37.908858Z"
    },
    "papermill": {
     "duration": 0.077825,
     "end_time": "2022-04-10T07:57:30.890126",
     "exception": false,
     "start_time": "2022-04-10T07:57:30.812301",
     "status": "completed"
    },
    "tags": []
   },
   "outputs": [
    {
     "data": {
      "text/html": [
       "<div>\n",
       "<style scoped>\n",
       "    .dataframe tbody tr th:only-of-type {\n",
       "        vertical-align: middle;\n",
       "    }\n",
       "\n",
       "    .dataframe tbody tr th {\n",
       "        vertical-align: top;\n",
       "    }\n",
       "\n",
       "    .dataframe thead th {\n",
       "        text-align: right;\n",
       "    }\n",
       "</style>\n",
       "<table border=\"1\" class=\"dataframe\">\n",
       "  <thead>\n",
       "    <tr style=\"text-align: right;\">\n",
       "      <th></th>\n",
       "      <th>CRIM</th>\n",
       "      <th>ZN</th>\n",
       "      <th>INDUS</th>\n",
       "      <th>CHAS</th>\n",
       "      <th>NOX</th>\n",
       "      <th>RM</th>\n",
       "      <th>AGE</th>\n",
       "      <th>DIS</th>\n",
       "      <th>RAD</th>\n",
       "      <th>TAX</th>\n",
       "      <th>PTRATIO</th>\n",
       "      <th>B</th>\n",
       "      <th>LSTAT</th>\n",
       "    </tr>\n",
       "  </thead>\n",
       "  <tbody>\n",
       "    <tr>\n",
       "      <th>count</th>\n",
       "      <td>506.000000</td>\n",
       "      <td>506.000000</td>\n",
       "      <td>506.000000</td>\n",
       "      <td>506.000000</td>\n",
       "      <td>506.000000</td>\n",
       "      <td>506.000000</td>\n",
       "      <td>506.000000</td>\n",
       "      <td>506.000000</td>\n",
       "      <td>506.000000</td>\n",
       "      <td>506.000000</td>\n",
       "      <td>506.000000</td>\n",
       "      <td>506.000000</td>\n",
       "      <td>506.000000</td>\n",
       "    </tr>\n",
       "    <tr>\n",
       "      <th>mean</th>\n",
       "      <td>3.613524</td>\n",
       "      <td>11.363636</td>\n",
       "      <td>11.136779</td>\n",
       "      <td>0.069170</td>\n",
       "      <td>0.554695</td>\n",
       "      <td>6.284634</td>\n",
       "      <td>68.574901</td>\n",
       "      <td>3.795043</td>\n",
       "      <td>9.549407</td>\n",
       "      <td>408.237154</td>\n",
       "      <td>18.455534</td>\n",
       "      <td>356.674032</td>\n",
       "      <td>12.653063</td>\n",
       "    </tr>\n",
       "    <tr>\n",
       "      <th>std</th>\n",
       "      <td>8.601545</td>\n",
       "      <td>23.322453</td>\n",
       "      <td>6.860353</td>\n",
       "      <td>0.253994</td>\n",
       "      <td>0.115878</td>\n",
       "      <td>0.702617</td>\n",
       "      <td>28.148861</td>\n",
       "      <td>2.105710</td>\n",
       "      <td>8.707259</td>\n",
       "      <td>168.537116</td>\n",
       "      <td>2.164946</td>\n",
       "      <td>91.294864</td>\n",
       "      <td>7.141062</td>\n",
       "    </tr>\n",
       "    <tr>\n",
       "      <th>min</th>\n",
       "      <td>0.006320</td>\n",
       "      <td>0.000000</td>\n",
       "      <td>0.460000</td>\n",
       "      <td>0.000000</td>\n",
       "      <td>0.385000</td>\n",
       "      <td>3.561000</td>\n",
       "      <td>2.900000</td>\n",
       "      <td>1.129600</td>\n",
       "      <td>1.000000</td>\n",
       "      <td>187.000000</td>\n",
       "      <td>12.600000</td>\n",
       "      <td>0.320000</td>\n",
       "      <td>1.730000</td>\n",
       "    </tr>\n",
       "    <tr>\n",
       "      <th>25%</th>\n",
       "      <td>0.082045</td>\n",
       "      <td>0.000000</td>\n",
       "      <td>5.190000</td>\n",
       "      <td>0.000000</td>\n",
       "      <td>0.449000</td>\n",
       "      <td>5.885500</td>\n",
       "      <td>45.025000</td>\n",
       "      <td>2.100175</td>\n",
       "      <td>4.000000</td>\n",
       "      <td>279.000000</td>\n",
       "      <td>17.400000</td>\n",
       "      <td>375.377500</td>\n",
       "      <td>6.950000</td>\n",
       "    </tr>\n",
       "    <tr>\n",
       "      <th>50%</th>\n",
       "      <td>0.256510</td>\n",
       "      <td>0.000000</td>\n",
       "      <td>9.690000</td>\n",
       "      <td>0.000000</td>\n",
       "      <td>0.538000</td>\n",
       "      <td>6.208500</td>\n",
       "      <td>77.500000</td>\n",
       "      <td>3.207450</td>\n",
       "      <td>5.000000</td>\n",
       "      <td>330.000000</td>\n",
       "      <td>19.050000</td>\n",
       "      <td>391.440000</td>\n",
       "      <td>11.360000</td>\n",
       "    </tr>\n",
       "    <tr>\n",
       "      <th>75%</th>\n",
       "      <td>3.677083</td>\n",
       "      <td>12.500000</td>\n",
       "      <td>18.100000</td>\n",
       "      <td>0.000000</td>\n",
       "      <td>0.624000</td>\n",
       "      <td>6.623500</td>\n",
       "      <td>94.075000</td>\n",
       "      <td>5.188425</td>\n",
       "      <td>24.000000</td>\n",
       "      <td>666.000000</td>\n",
       "      <td>20.200000</td>\n",
       "      <td>396.225000</td>\n",
       "      <td>16.955000</td>\n",
       "    </tr>\n",
       "    <tr>\n",
       "      <th>max</th>\n",
       "      <td>88.976200</td>\n",
       "      <td>100.000000</td>\n",
       "      <td>27.740000</td>\n",
       "      <td>1.000000</td>\n",
       "      <td>0.871000</td>\n",
       "      <td>8.780000</td>\n",
       "      <td>100.000000</td>\n",
       "      <td>12.126500</td>\n",
       "      <td>24.000000</td>\n",
       "      <td>711.000000</td>\n",
       "      <td>22.000000</td>\n",
       "      <td>396.900000</td>\n",
       "      <td>37.970000</td>\n",
       "    </tr>\n",
       "  </tbody>\n",
       "</table>\n",
       "</div>"
      ],
      "text/plain": [
       "             CRIM          ZN       INDUS        CHAS         NOX          RM  \\\n",
       "count  506.000000  506.000000  506.000000  506.000000  506.000000  506.000000   \n",
       "mean     3.613524   11.363636   11.136779    0.069170    0.554695    6.284634   \n",
       "std      8.601545   23.322453    6.860353    0.253994    0.115878    0.702617   \n",
       "min      0.006320    0.000000    0.460000    0.000000    0.385000    3.561000   \n",
       "25%      0.082045    0.000000    5.190000    0.000000    0.449000    5.885500   \n",
       "50%      0.256510    0.000000    9.690000    0.000000    0.538000    6.208500   \n",
       "75%      3.677083   12.500000   18.100000    0.000000    0.624000    6.623500   \n",
       "max     88.976200  100.000000   27.740000    1.000000    0.871000    8.780000   \n",
       "\n",
       "              AGE         DIS         RAD         TAX     PTRATIO           B  \\\n",
       "count  506.000000  506.000000  506.000000  506.000000  506.000000  506.000000   \n",
       "mean    68.574901    3.795043    9.549407  408.237154   18.455534  356.674032   \n",
       "std     28.148861    2.105710    8.707259  168.537116    2.164946   91.294864   \n",
       "min      2.900000    1.129600    1.000000  187.000000   12.600000    0.320000   \n",
       "25%     45.025000    2.100175    4.000000  279.000000   17.400000  375.377500   \n",
       "50%     77.500000    3.207450    5.000000  330.000000   19.050000  391.440000   \n",
       "75%     94.075000    5.188425   24.000000  666.000000   20.200000  396.225000   \n",
       "max    100.000000   12.126500   24.000000  711.000000   22.000000  396.900000   \n",
       "\n",
       "            LSTAT  \n",
       "count  506.000000  \n",
       "mean    12.653063  \n",
       "std      7.141062  \n",
       "min      1.730000  \n",
       "25%      6.950000  \n",
       "50%     11.360000  \n",
       "75%     16.955000  \n",
       "max     37.970000  "
      ]
     },
     "execution_count": 5,
     "metadata": {},
     "output_type": "execute_result"
    }
   ],
   "source": [
    "df.describe()"
   ]
  },
  {
   "cell_type": "code",
   "execution_count": 6,
   "id": "5c887dc0",
   "metadata": {
    "execution": {
     "iopub.execute_input": "2022-04-10T07:57:30.938559Z",
     "iopub.status.busy": "2022-04-10T07:57:30.937606Z",
     "iopub.status.idle": "2022-04-10T07:57:30.945784Z",
     "shell.execute_reply": "2022-04-10T07:57:30.945258Z",
     "shell.execute_reply.started": "2022-04-10T07:53:37.970910Z"
    },
    "papermill": {
     "duration": 0.033153,
     "end_time": "2022-04-10T07:57:30.945923",
     "exception": false,
     "start_time": "2022-04-10T07:57:30.912770",
     "status": "completed"
    },
    "tags": []
   },
   "outputs": [
    {
     "data": {
      "text/plain": [
       "CRIM       0\n",
       "ZN         0\n",
       "INDUS      0\n",
       "CHAS       0\n",
       "NOX        0\n",
       "RM         0\n",
       "AGE        0\n",
       "DIS        0\n",
       "RAD        0\n",
       "TAX        0\n",
       "PTRATIO    0\n",
       "B          0\n",
       "LSTAT      0\n",
       "dtype: int64"
      ]
     },
     "execution_count": 6,
     "metadata": {},
     "output_type": "execute_result"
    }
   ],
   "source": [
    "df.isnull().sum()"
   ]
  },
  {
   "cell_type": "code",
   "execution_count": 7,
   "id": "68a074bc",
   "metadata": {
    "execution": {
     "iopub.execute_input": "2022-04-10T07:57:30.996794Z",
     "iopub.status.busy": "2022-04-10T07:57:30.996168Z",
     "iopub.status.idle": "2022-04-10T07:57:30.998269Z",
     "shell.execute_reply": "2022-04-10T07:57:30.998833Z",
     "shell.execute_reply.started": "2022-04-10T07:53:37.981898Z"
    },
    "papermill": {
     "duration": 0.03061,
     "end_time": "2022-04-10T07:57:30.998998",
     "exception": false,
     "start_time": "2022-04-10T07:57:30.968388",
     "status": "completed"
    },
    "tags": []
   },
   "outputs": [],
   "source": [
    "correlation=df.corr()"
   ]
  },
  {
   "cell_type": "code",
   "execution_count": 8,
   "id": "13018f72",
   "metadata": {
    "execution": {
     "iopub.execute_input": "2022-04-10T07:57:31.057209Z",
     "iopub.status.busy": "2022-04-10T07:57:31.049830Z",
     "iopub.status.idle": "2022-04-10T07:57:32.171760Z",
     "shell.execute_reply": "2022-04-10T07:57:32.172244Z",
     "shell.execute_reply.started": "2022-04-10T07:53:37.998955Z"
    },
    "papermill": {
     "duration": 1.151411,
     "end_time": "2022-04-10T07:57:32.172419",
     "exception": false,
     "start_time": "2022-04-10T07:57:31.021008",
     "status": "completed"
    },
    "tags": []
   },
   "outputs": [
    {
     "data": {
      "text/plain": [
       "<AxesSubplot:>"
      ]
     },
     "execution_count": 8,
     "metadata": {},
     "output_type": "execute_result"
    },
    {
     "data": {
      "image/png": "[encoded data removed]",
      "text/plain": [
       "<Figure size 720x720 with 2 Axes>"
      ]
     },
     "metadata": {
      "needs_background": "light"
     },
     "output_type": "display_data"
    }
   ],
   "source": [
    "plt.figure(figsize=(10,10))\n",
    "sns.heatmap(correlation,cbar=True,square=True,fmt='.1f',annot=True,annot_kws={'size':18},cmap='Blues')"
   ]
  },
  {
   "cell_type": "code",
   "execution_count": 9,
   "id": "8bab2a42",
   "metadata": {
    "execution": {
     "iopub.execute_input": "2022-04-10T07:57:32.229588Z",
     "iopub.status.busy": "2022-04-10T07:57:32.228993Z",
     "iopub.status.idle": "2022-04-10T07:57:32.232584Z",
     "shell.execute_reply": "2022-04-10T07:57:32.233099Z",
     "shell.execute_reply.started": "2022-04-10T07:53:39.208842Z"
    },
    "papermill": {
     "duration": 0.033707,
     "end_time": "2022-04-10T07:57:32.233271",
     "exception": false,
     "start_time": "2022-04-10T07:57:32.199564",
     "status": "completed"
    },
    "tags": []
   },
   "outputs": [],
   "source": [
    "x_train,x_test,y_train,y_test=train_test_split(x,y)"
   ]
  },
  {
   "cell_type": "code",
   "execution_count": 10,
   "id": "34a4d74a",
   "metadata": {
    "execution": {
     "iopub.execute_input": "2022-04-10T07:57:32.288676Z",
     "iopub.status.busy": "2022-04-10T07:57:32.288060Z",
     "iopub.status.idle": "2022-04-10T07:57:32.291088Z",
     "shell.execute_reply": "2022-04-10T07:57:32.291538Z",
     "shell.execute_reply.started": "2022-04-10T07:53:39.218965Z"
    },
    "papermill": {
     "duration": 0.032167,
     "end_time": "2022-04-10T07:57:32.291713",
     "exception": false,
     "start_time": "2022-04-10T07:57:32.259546",
     "status": "completed"
    },
    "tags": []
   },
   "outputs": [],
   "source": [
    "model=LinearRegression()"
   ]
  },
  {
   "cell_type": "code",
   "execution_count": 11,
   "id": "8ae9c793",
   "metadata": {
    "execution": {
     "iopub.execute_input": "2022-04-10T07:57:32.346885Z",
     "iopub.status.busy": "2022-04-10T07:57:32.346301Z",
     "iopub.status.idle": "2022-04-10T07:57:32.364410Z",
     "shell.execute_reply": "2022-04-10T07:57:32.364889Z",
     "shell.execute_reply.started": "2022-04-10T07:53:39.229646Z"
    },
    "papermill": {
     "duration": 0.047185,
     "end_time": "2022-04-10T07:57:32.365062",
     "exception": false,
     "start_time": "2022-04-10T07:57:32.317877",
     "status": "completed"
    },
    "tags": []
   },
   "outputs": [
    {
     "data": {
      "text/plain": [
       "LinearRegression()"
      ]
     },
     "execution_count": 11,
     "metadata": {},
     "output_type": "execute_result"
    }
   ],
   "source": [
    "model.fit(x_train,y_train)"
   ]
  },
  {
   "cell_type": "code",
   "execution_count": 12,
   "id": "28afc447",
   "metadata": {
    "execution": {
     "iopub.execute_input": "2022-04-10T07:57:32.421144Z",
     "iopub.status.busy": "2022-04-10T07:57:32.420547Z",
     "iopub.status.idle": "2022-04-10T07:57:32.423743Z",
     "shell.execute_reply": "2022-04-10T07:57:32.424155Z",
     "shell.execute_reply.started": "2022-04-10T07:53:39.264415Z"
    },
    "papermill": {
     "duration": 0.032542,
     "end_time": "2022-04-10T07:57:32.424314",
     "exception": false,
     "start_time": "2022-04-10T07:57:32.391772",
     "status": "completed"
    },
    "tags": []
   },
   "outputs": [],
   "source": [
    "y_test_pred=model.predict(x_test)"
   ]
  },
  {
   "cell_type": "code",
   "execution_count": 13,
   "id": "001954f4",
   "metadata": {
    "execution": {
     "iopub.execute_input": "2022-04-10T07:57:32.480960Z",
     "iopub.status.busy": "2022-04-10T07:57:32.480384Z",
     "iopub.status.idle": "2022-04-10T07:57:32.483816Z",
     "shell.execute_reply": "2022-04-10T07:57:32.484242Z",
     "shell.execute_reply.started": "2022-04-10T07:53:39.271929Z"
    },
    "papermill": {
     "duration": 0.032578,
     "end_time": "2022-04-10T07:57:32.484395",
     "exception": false,
     "start_time": "2022-04-10T07:57:32.451817",
     "status": "completed"
    },
    "tags": []
   },
   "outputs": [],
   "source": [
    "y_train_pred=model.predict(x_train)"
   ]
  },
  {
   "cell_type": "code",
   "execution_count": 14,
   "id": "45ea90f8",
   "metadata": {
    "execution": {
     "iopub.execute_input": "2022-04-10T07:57:32.540544Z",
     "iopub.status.busy": "2022-04-10T07:57:32.539987Z",
     "iopub.status.idle": "2022-04-10T07:57:32.545027Z",
     "shell.execute_reply": "2022-04-10T07:57:32.545450Z",
     "shell.execute_reply.started": "2022-04-10T07:53:39.287097Z"
    },
    "papermill": {
     "duration": 0.034732,
     "end_time": "2022-04-10T07:57:32.545606",
     "exception": false,
     "start_time": "2022-04-10T07:57:32.510874",
     "status": "completed"
    },
    "tags": []
   },
   "outputs": [
    {
     "data": {
      "text/plain": [
       "0.7552642156625122"
      ]
     },
     "execution_count": 14,
     "metadata": {},
     "output_type": "execute_result"
    }
   ],
   "source": [
    "train_score=metrics.r2_score(y_train,y_train_pred)\n",
    "train_score"
   ]
  },
  {
   "cell_type": "code",
   "execution_count": 15,
   "id": "2c232159",
   "metadata": {
    "execution": {
     "iopub.execute_input": "2022-04-10T07:57:32.602170Z",
     "iopub.status.busy": "2022-04-10T07:57:32.601560Z",
     "iopub.status.idle": "2022-04-10T07:57:32.606162Z",
     "shell.execute_reply": "2022-04-10T07:57:32.606581Z",
     "shell.execute_reply.started": "2022-04-10T07:53:39.302448Z"
    },
    "papermill": {
     "duration": 0.034461,
     "end_time": "2022-04-10T07:57:32.606774",
     "exception": false,
     "start_time": "2022-04-10T07:57:32.572313",
     "status": "completed"
    },
    "tags": []
   },
   "outputs": [
    {
     "data": {
      "text/plain": [
       "0.6795424207402825"
      ]
     },
     "execution_count": 15,
     "metadata": {},
     "output_type": "execute_result"
    }
   ],
   "source": [
    "test_score=metrics.r2_score(y_test,y_test_pred)\n",
    "test_score"
   ]
  },
  {
   "cell_type": "code",
   "execution_count": 16,
   "id": "5d307e03",
   "metadata": {
    "execution": {
     "iopub.execute_input": "2022-04-10T07:57:32.664187Z",
     "iopub.status.busy": "2022-04-10T07:57:32.663561Z",
     "iopub.status.idle": "2022-04-10T07:57:32.855032Z",
     "shell.execute_reply": "2022-04-10T07:57:32.854173Z",
     "shell.execute_reply.started": "2022-04-10T07:53:39.319682Z"
    },
    "papermill": {
     "duration": 0.221361,
     "end_time": "2022-04-10T07:57:32.855190",
     "exception": false,
     "start_time": "2022-04-10T07:57:32.633829",
     "status": "completed"
    },
    "tags": []
   },
   "outputs": [
    {
     "data": {
      "text/plain": [
       "<matplotlib.collections.PathCollection at 0x7fb3680db4d0>"
      ]
     },
     "execution_count": 16,
     "metadata": {},
     "output_type": "execute_result"
    },
    {
     "data": {
      "image/png": "[encoded data removed]",
      "text/plain": [
       "<Figure size 432x288 with 1 Axes>"
      ]
     },
     "metadata": {
      "needs_background": "light"
     },
     "output_type": "display_data"
    }
   ],
   "source": [
    "plt.scatter(y_test,y_test_pred)"
   ]
  },
  {
   "cell_type": "code",
   "execution_count": 17,
   "id": "7af505e7",
   "metadata": {
    "execution": {
     "iopub.execute_input": "2022-04-10T07:57:32.917310Z",
     "iopub.status.busy": "2022-04-10T07:57:32.916701Z",
     "iopub.status.idle": "2022-04-10T07:57:32.931504Z",
     "shell.execute_reply": "2022-04-10T07:57:32.931025Z",
     "shell.execute_reply.started": "2022-04-10T07:53:39.541715Z"
    },
    "papermill": {
     "duration": 0.04784,
     "end_time": "2022-04-10T07:57:32.931661",
     "exception": false,
     "start_time": "2022-04-10T07:57:32.883821",
     "status": "completed"
    },
    "tags": []
   },
   "outputs": [
    {
     "data": {
      "text/plain": [
       "array([[6.32000000e-03, 1.80000000e+01, 2.31000000e+00, ...,\n",
       "        1.17482400e+05, 6.07257000e+03, 1.57529610e+05],\n",
       "       [2.73100000e-02, 0.00000000e+00, 7.07000000e+00, ...,\n",
       "        9.60498000e+04, 7.06482000e+03, 1.57529610e+05],\n",
       "       [2.72900000e-02, 0.00000000e+00, 7.07000000e+00, ...,\n",
       "        9.50648600e+04, 6.99237400e+03, 1.54315409e+05],\n",
       "       ...,\n",
       "       [6.07600000e-02, 0.00000000e+00, 1.19300000e+01, ...,\n",
       "        1.08353700e+05, 8.33490000e+03, 1.57529610e+05],\n",
       "       [1.09590000e-01, 0.00000000e+00, 1.19300000e+01, ...,\n",
       "        1.07411850e+05, 8.26245000e+03, 1.54802902e+05],\n",
       "       [4.74100000e-02, 0.00000000e+00, 1.19300000e+01, ...,\n",
       "        1.08353700e+05, 8.33490000e+03, 1.57529610e+05]])"
      ]
     },
     "execution_count": 17,
     "metadata": {},
     "output_type": "execute_result"
    }
   ],
   "source": [
    "for i in range(1,13):\n",
    "    for j in range(1,13):\n",
    "        \n",
    "        c=x[:,i-1]*x[:,j-1]\n",
    "        x=np.c_[x,c]\n",
    "x"
   ]
  },
  {
   "cell_type": "code",
   "execution_count": 18,
   "id": "64592f76",
   "metadata": {
    "execution": {
     "iopub.execute_input": "2022-04-10T07:57:32.993055Z",
     "iopub.status.busy": "2022-04-10T07:57:32.992439Z",
     "iopub.status.idle": "2022-04-10T07:57:33.015776Z",
     "shell.execute_reply": "2022-04-10T07:57:33.016273Z",
     "shell.execute_reply.started": "2022-04-10T07:53:39.562800Z"
    },
    "papermill": {
     "duration": 0.055246,
     "end_time": "2022-04-10T07:57:33.016441",
     "exception": false,
     "start_time": "2022-04-10T07:57:32.961195",
     "status": "completed"
    },
    "scrolled": true,
    "tags": []
   },
   "outputs": [
    {
     "data": {
      "text/html": [
       "<div>\n",
       "<style scoped>\n",
       "    .dataframe tbody tr th:only-of-type {\n",
       "        vertical-align: middle;\n",
       "    }\n",
       "\n",
       "    .dataframe tbody tr th {\n",
       "        vertical-align: top;\n",
       "    }\n",
       "\n",
       "    .dataframe thead th {\n",
       "        text-align: right;\n",
       "    }\n",
       "</style>\n",
       "<table border=\"1\" class=\"dataframe\">\n",
       "  <thead>\n",
       "    <tr style=\"text-align: right;\">\n",
       "      <th></th>\n",
       "      <th>0</th>\n",
       "      <th>1</th>\n",
       "      <th>2</th>\n",
       "      <th>3</th>\n",
       "      <th>4</th>\n",
       "      <th>5</th>\n",
       "      <th>6</th>\n",
       "      <th>7</th>\n",
       "      <th>8</th>\n",
       "      <th>9</th>\n",
       "      <th>...</th>\n",
       "      <th>147</th>\n",
       "      <th>148</th>\n",
       "      <th>149</th>\n",
       "      <th>150</th>\n",
       "      <th>151</th>\n",
       "      <th>152</th>\n",
       "      <th>153</th>\n",
       "      <th>154</th>\n",
       "      <th>155</th>\n",
       "      <th>156</th>\n",
       "    </tr>\n",
       "  </thead>\n",
       "  <tbody>\n",
       "    <tr>\n",
       "      <th>0</th>\n",
       "      <td>0.00632</td>\n",
       "      <td>18.0</td>\n",
       "      <td>2.31</td>\n",
       "      <td>0.0</td>\n",
       "      <td>0.538</td>\n",
       "      <td>6.575</td>\n",
       "      <td>65.2</td>\n",
       "      <td>4.0900</td>\n",
       "      <td>1.0</td>\n",
       "      <td>296.0</td>\n",
       "      <td>...</td>\n",
       "      <td>916.8390</td>\n",
       "      <td>0.0</td>\n",
       "      <td>213.53220</td>\n",
       "      <td>2609.61750</td>\n",
       "      <td>25877.880</td>\n",
       "      <td>1623.321000</td>\n",
       "      <td>396.90</td>\n",
       "      <td>117482.40</td>\n",
       "      <td>6072.570</td>\n",
       "      <td>157529.6100</td>\n",
       "    </tr>\n",
       "    <tr>\n",
       "      <th>1</th>\n",
       "      <td>0.02731</td>\n",
       "      <td>0.0</td>\n",
       "      <td>7.07</td>\n",
       "      <td>0.0</td>\n",
       "      <td>0.469</td>\n",
       "      <td>6.421</td>\n",
       "      <td>78.9</td>\n",
       "      <td>4.9671</td>\n",
       "      <td>2.0</td>\n",
       "      <td>242.0</td>\n",
       "      <td>...</td>\n",
       "      <td>2806.0830</td>\n",
       "      <td>0.0</td>\n",
       "      <td>186.14610</td>\n",
       "      <td>2548.49490</td>\n",
       "      <td>31315.410</td>\n",
       "      <td>1971.441990</td>\n",
       "      <td>793.80</td>\n",
       "      <td>96049.80</td>\n",
       "      <td>7064.820</td>\n",
       "      <td>157529.6100</td>\n",
       "    </tr>\n",
       "    <tr>\n",
       "      <th>2</th>\n",
       "      <td>0.02729</td>\n",
       "      <td>0.0</td>\n",
       "      <td>7.07</td>\n",
       "      <td>0.0</td>\n",
       "      <td>0.469</td>\n",
       "      <td>7.185</td>\n",
       "      <td>61.1</td>\n",
       "      <td>4.9671</td>\n",
       "      <td>2.0</td>\n",
       "      <td>242.0</td>\n",
       "      <td>...</td>\n",
       "      <td>2777.3081</td>\n",
       "      <td>0.0</td>\n",
       "      <td>184.23727</td>\n",
       "      <td>2822.48355</td>\n",
       "      <td>24001.913</td>\n",
       "      <td>1951.225893</td>\n",
       "      <td>785.66</td>\n",
       "      <td>95064.86</td>\n",
       "      <td>6992.374</td>\n",
       "      <td>154315.4089</td>\n",
       "    </tr>\n",
       "    <tr>\n",
       "      <th>3</th>\n",
       "      <td>0.03237</td>\n",
       "      <td>0.0</td>\n",
       "      <td>2.18</td>\n",
       "      <td>0.0</td>\n",
       "      <td>0.458</td>\n",
       "      <td>6.998</td>\n",
       "      <td>45.8</td>\n",
       "      <td>6.0622</td>\n",
       "      <td>3.0</td>\n",
       "      <td>222.0</td>\n",
       "      <td>...</td>\n",
       "      <td>860.2934</td>\n",
       "      <td>0.0</td>\n",
       "      <td>180.74054</td>\n",
       "      <td>2761.62074</td>\n",
       "      <td>18074.054</td>\n",
       "      <td>2392.325986</td>\n",
       "      <td>1183.89</td>\n",
       "      <td>87607.86</td>\n",
       "      <td>7379.581</td>\n",
       "      <td>155732.8369</td>\n",
       "    </tr>\n",
       "    <tr>\n",
       "      <th>4</th>\n",
       "      <td>0.06905</td>\n",
       "      <td>0.0</td>\n",
       "      <td>2.18</td>\n",
       "      <td>0.0</td>\n",
       "      <td>0.458</td>\n",
       "      <td>7.147</td>\n",
       "      <td>54.2</td>\n",
       "      <td>6.0622</td>\n",
       "      <td>3.0</td>\n",
       "      <td>222.0</td>\n",
       "      <td>...</td>\n",
       "      <td>865.2420</td>\n",
       "      <td>0.0</td>\n",
       "      <td>181.78020</td>\n",
       "      <td>2836.64430</td>\n",
       "      <td>21511.980</td>\n",
       "      <td>2406.087180</td>\n",
       "      <td>1190.70</td>\n",
       "      <td>88111.80</td>\n",
       "      <td>7422.030</td>\n",
       "      <td>157529.6100</td>\n",
       "    </tr>\n",
       "  </tbody>\n",
       "</table>\n",
       "<p>5 rows × 157 columns</p>\n",
       "</div>"
      ],
      "text/plain": [
       "       0     1     2    3      4      5     6       7    8      9    ...  \\\n",
       "0  0.00632  18.0  2.31  0.0  0.538  6.575  65.2  4.0900  1.0  296.0  ...   \n",
       "1  0.02731   0.0  7.07  0.0  0.469  6.421  78.9  4.9671  2.0  242.0  ...   \n",
       "2  0.02729   0.0  7.07  0.0  0.469  7.185  61.1  4.9671  2.0  242.0  ...   \n",
       "3  0.03237   0.0  2.18  0.0  0.458  6.998  45.8  6.0622  3.0  222.0  ...   \n",
       "4  0.06905   0.0  2.18  0.0  0.458  7.147  54.2  6.0622  3.0  222.0  ...   \n",
       "\n",
       "         147  148        149         150        151          152      153  \\\n",
       "0   916.8390  0.0  213.53220  2609.61750  25877.880  1623.321000   396.90   \n",
       "1  2806.0830  0.0  186.14610  2548.49490  31315.410  1971.441990   793.80   \n",
       "2  2777.3081  0.0  184.23727  2822.48355  24001.913  1951.225893   785.66   \n",
       "3   860.2934  0.0  180.74054  2761.62074  18074.054  2392.325986  1183.89   \n",
       "4   865.2420  0.0  181.78020  2836.64430  21511.980  2406.087180  1190.70   \n",
       "\n",
       "         154       155          156  \n",
       "0  117482.40  6072.570  157529.6100  \n",
       "1   96049.80  7064.820  157529.6100  \n",
       "2   95064.86  6992.374  154315.4089  \n",
       "3   87607.86  7379.581  155732.8369  \n",
       "4   88111.80  7422.030  157529.6100  \n",
       "\n",
       "[5 rows x 157 columns]"
      ]
     },
     "execution_count": 18,
     "metadata": {},
     "output_type": "execute_result"
    }
   ],
   "source": [
    "df2=pd.DataFrame(x)\n",
    "df2.head()"
   ]
  },
  {
   "cell_type": "code",
   "execution_count": 19,
   "id": "0c5fea09",
   "metadata": {
    "execution": {
     "iopub.execute_input": "2022-04-10T07:57:33.078496Z",
     "iopub.status.busy": "2022-04-10T07:57:33.077910Z",
     "iopub.status.idle": "2022-04-10T07:57:33.355599Z",
     "shell.execute_reply": "2022-04-10T07:57:33.356174Z",
     "shell.execute_reply.started": "2022-04-10T07:53:39.596791Z"
    },
    "papermill": {
     "duration": 0.310548,
     "end_time": "2022-04-10T07:57:33.356338",
     "exception": false,
     "start_time": "2022-04-10T07:57:33.045790",
     "status": "completed"
    },
    "tags": []
   },
   "outputs": [
    {
     "data": {
      "text/html": [
       "<div>\n",
       "<style scoped>\n",
       "    .dataframe tbody tr th:only-of-type {\n",
       "        vertical-align: middle;\n",
       "    }\n",
       "\n",
       "    .dataframe tbody tr th {\n",
       "        vertical-align: top;\n",
       "    }\n",
       "\n",
       "    .dataframe thead th {\n",
       "        text-align: right;\n",
       "    }\n",
       "</style>\n",
       "<table border=\"1\" class=\"dataframe\">\n",
       "  <thead>\n",
       "    <tr style=\"text-align: right;\">\n",
       "      <th></th>\n",
       "      <th>0</th>\n",
       "      <th>1</th>\n",
       "      <th>2</th>\n",
       "      <th>3</th>\n",
       "      <th>4</th>\n",
       "      <th>5</th>\n",
       "      <th>6</th>\n",
       "      <th>7</th>\n",
       "      <th>8</th>\n",
       "      <th>9</th>\n",
       "      <th>...</th>\n",
       "      <th>147</th>\n",
       "      <th>148</th>\n",
       "      <th>149</th>\n",
       "      <th>150</th>\n",
       "      <th>151</th>\n",
       "      <th>152</th>\n",
       "      <th>153</th>\n",
       "      <th>154</th>\n",
       "      <th>155</th>\n",
       "      <th>156</th>\n",
       "    </tr>\n",
       "  </thead>\n",
       "  <tbody>\n",
       "    <tr>\n",
       "      <th>count</th>\n",
       "      <td>506.000000</td>\n",
       "      <td>506.000000</td>\n",
       "      <td>506.000000</td>\n",
       "      <td>506.000000</td>\n",
       "      <td>506.000000</td>\n",
       "      <td>506.000000</td>\n",
       "      <td>506.000000</td>\n",
       "      <td>506.000000</td>\n",
       "      <td>506.000000</td>\n",
       "      <td>506.000000</td>\n",
       "      <td>...</td>\n",
       "      <td>506.000000</td>\n",
       "      <td>506.000000</td>\n",
       "      <td>506.000000</td>\n",
       "      <td>506.000000</td>\n",
       "      <td>506.000000</td>\n",
       "      <td>506.000000</td>\n",
       "      <td>506.00000</td>\n",
       "      <td>506.00000</td>\n",
       "      <td>506.000000</td>\n",
       "      <td>506.000000</td>\n",
       "    </tr>\n",
       "    <tr>\n",
       "      <th>mean</th>\n",
       "      <td>3.613524</td>\n",
       "      <td>11.363636</td>\n",
       "      <td>11.136779</td>\n",
       "      <td>0.069170</td>\n",
       "      <td>0.554695</td>\n",
       "      <td>6.284634</td>\n",
       "      <td>68.574901</td>\n",
       "      <td>3.795043</td>\n",
       "      <td>9.549407</td>\n",
       "      <td>408.237154</td>\n",
       "      <td>...</td>\n",
       "      <td>3749.061844</td>\n",
       "      <td>25.800217</td>\n",
       "      <td>193.832699</td>\n",
       "      <td>2249.764655</td>\n",
       "      <td>23757.335356</td>\n",
       "      <td>1409.522780</td>\n",
       "      <td>3053.44749</td>\n",
       "      <td>138823.11502</td>\n",
       "      <td>6547.619334</td>\n",
       "      <td>135534.645253</td>\n",
       "    </tr>\n",
       "    <tr>\n",
       "      <th>std</th>\n",
       "      <td>8.601545</td>\n",
       "      <td>23.322453</td>\n",
       "      <td>6.860353</td>\n",
       "      <td>0.253994</td>\n",
       "      <td>0.115878</td>\n",
       "      <td>0.702617</td>\n",
       "      <td>28.148861</td>\n",
       "      <td>2.105710</td>\n",
       "      <td>8.707259</td>\n",
       "      <td>168.537116</td>\n",
       "      <td>...</td>\n",
       "      <td>2560.080964</td>\n",
       "      <td>95.746354</td>\n",
       "      <td>59.942510</td>\n",
       "      <td>644.671808</td>\n",
       "      <td>11628.065204</td>\n",
       "      <td>887.420202</td>\n",
       "      <td>2960.05577</td>\n",
       "      <td>64619.91997</td>\n",
       "      <td>1837.557901</td>\n",
       "      <td>41830.850997</td>\n",
       "    </tr>\n",
       "    <tr>\n",
       "      <th>min</th>\n",
       "      <td>0.006320</td>\n",
       "      <td>0.000000</td>\n",
       "      <td>0.460000</td>\n",
       "      <td>0.000000</td>\n",
       "      <td>0.385000</td>\n",
       "      <td>3.561000</td>\n",
       "      <td>2.900000</td>\n",
       "      <td>1.129600</td>\n",
       "      <td>1.000000</td>\n",
       "      <td>187.000000</td>\n",
       "      <td>...</td>\n",
       "      <td>5.792000</td>\n",
       "      <td>0.000000</td>\n",
       "      <td>0.228160</td>\n",
       "      <td>2.159680</td>\n",
       "      <td>29.632000</td>\n",
       "      <td>0.743552</td>\n",
       "      <td>7.68000</td>\n",
       "      <td>213.12000</td>\n",
       "      <td>6.464000</td>\n",
       "      <td>0.102400</td>\n",
       "    </tr>\n",
       "    <tr>\n",
       "      <th>25%</th>\n",
       "      <td>0.082045</td>\n",
       "      <td>0.000000</td>\n",
       "      <td>5.190000</td>\n",
       "      <td>0.000000</td>\n",
       "      <td>0.449000</td>\n",
       "      <td>5.885500</td>\n",
       "      <td>45.025000</td>\n",
       "      <td>2.100175</td>\n",
       "      <td>4.000000</td>\n",
       "      <td>279.000000</td>\n",
       "      <td>...</td>\n",
       "      <td>1603.496250</td>\n",
       "      <td>0.000000</td>\n",
       "      <td>169.326430</td>\n",
       "      <td>2188.539243</td>\n",
       "      <td>13423.871250</td>\n",
       "      <td>729.357886</td>\n",
       "      <td>1483.70250</td>\n",
       "      <td>101240.04000</td>\n",
       "      <td>6140.250000</td>\n",
       "      <td>140908.274275</td>\n",
       "    </tr>\n",
       "    <tr>\n",
       "      <th>50%</th>\n",
       "      <td>0.256510</td>\n",
       "      <td>0.000000</td>\n",
       "      <td>9.690000</td>\n",
       "      <td>0.000000</td>\n",
       "      <td>0.538000</td>\n",
       "      <td>6.208500</td>\n",
       "      <td>77.500000</td>\n",
       "      <td>3.207450</td>\n",
       "      <td>5.000000</td>\n",
       "      <td>330.000000</td>\n",
       "      <td>...</td>\n",
       "      <td>2987.280950</td>\n",
       "      <td>0.000000</td>\n",
       "      <td>194.084100</td>\n",
       "      <td>2387.307590</td>\n",
       "      <td>25828.829500</td>\n",
       "      <td>1227.290435</td>\n",
       "      <td>1933.35000</td>\n",
       "      <td>119658.91500</td>\n",
       "      <td>7078.025500</td>\n",
       "      <td>153225.273700</td>\n",
       "    </tr>\n",
       "    <tr>\n",
       "      <th>75%</th>\n",
       "      <td>3.677083</td>\n",
       "      <td>12.500000</td>\n",
       "      <td>18.100000</td>\n",
       "      <td>0.000000</td>\n",
       "      <td>0.624000</td>\n",
       "      <td>6.623500</td>\n",
       "      <td>94.075000</td>\n",
       "      <td>5.188425</td>\n",
       "      <td>24.000000</td>\n",
       "      <td>666.000000</td>\n",
       "      <td>...</td>\n",
       "      <td>6244.352700</td>\n",
       "      <td>0.000000</td>\n",
       "      <td>227.295160</td>\n",
       "      <td>2568.006645</td>\n",
       "      <td>34071.304500</td>\n",
       "      <td>2020.823580</td>\n",
       "      <td>2778.30000</td>\n",
       "      <td>160982.30250</td>\n",
       "      <td>7695.286500</td>\n",
       "      <td>156994.250700</td>\n",
       "    </tr>\n",
       "    <tr>\n",
       "      <th>max</th>\n",
       "      <td>88.976200</td>\n",
       "      <td>100.000000</td>\n",
       "      <td>27.740000</td>\n",
       "      <td>1.000000</td>\n",
       "      <td>0.871000</td>\n",
       "      <td>8.780000</td>\n",
       "      <td>100.000000</td>\n",
       "      <td>12.126500</td>\n",
       "      <td>24.000000</td>\n",
       "      <td>711.000000</td>\n",
       "      <td>...</td>\n",
       "      <td>11010.006000</td>\n",
       "      <td>396.900000</td>\n",
       "      <td>345.699900</td>\n",
       "      <td>3391.948800</td>\n",
       "      <td>39690.000000</td>\n",
       "      <td>4662.154190</td>\n",
       "      <td>9525.60000</td>\n",
       "      <td>282195.90000</td>\n",
       "      <td>8421.600000</td>\n",
       "      <td>157529.610000</td>\n",
       "    </tr>\n",
       "  </tbody>\n",
       "</table>\n",
       "<p>8 rows × 157 columns</p>\n",
       "</div>"
      ],
      "text/plain": [
       "              0           1           2           3           4           5    \\\n",
       "count  506.000000  506.000000  506.000000  506.000000  506.000000  506.000000   \n",
       "mean     3.613524   11.363636   11.136779    0.069170    0.554695    6.284634   \n",
       "std      8.601545   23.322453    6.860353    0.253994    0.115878    0.702617   \n",
       "min      0.006320    0.000000    0.460000    0.000000    0.385000    3.561000   \n",
       "25%      0.082045    0.000000    5.190000    0.000000    0.449000    5.885500   \n",
       "50%      0.256510    0.000000    9.690000    0.000000    0.538000    6.208500   \n",
       "75%      3.677083   12.500000   18.100000    0.000000    0.624000    6.623500   \n",
       "max     88.976200  100.000000   27.740000    1.000000    0.871000    8.780000   \n",
       "\n",
       "              6           7           8           9    ...           147  \\\n",
       "count  506.000000  506.000000  506.000000  506.000000  ...    506.000000   \n",
       "mean    68.574901    3.795043    9.549407  408.237154  ...   3749.061844   \n",
       "std     28.148861    2.105710    8.707259  168.537116  ...   2560.080964   \n",
       "min      2.900000    1.129600    1.000000  187.000000  ...      5.792000   \n",
       "25%     45.025000    2.100175    4.000000  279.000000  ...   1603.496250   \n",
       "50%     77.500000    3.207450    5.000000  330.000000  ...   2987.280950   \n",
       "75%     94.075000    5.188425   24.000000  666.000000  ...   6244.352700   \n",
       "max    100.000000   12.126500   24.000000  711.000000  ...  11010.006000   \n",
       "\n",
       "              148         149          150           151          152  \\\n",
       "count  506.000000  506.000000   506.000000    506.000000   506.000000   \n",
       "mean    25.800217  193.832699  2249.764655  23757.335356  1409.522780   \n",
       "std     95.746354   59.942510   644.671808  11628.065204   887.420202   \n",
       "min      0.000000    0.228160     2.159680     29.632000     0.743552   \n",
       "25%      0.000000  169.326430  2188.539243  13423.871250   729.357886   \n",
       "50%      0.000000  194.084100  2387.307590  25828.829500  1227.290435   \n",
       "75%      0.000000  227.295160  2568.006645  34071.304500  2020.823580   \n",
       "max    396.900000  345.699900  3391.948800  39690.000000  4662.154190   \n",
       "\n",
       "              153           154          155            156  \n",
       "count   506.00000     506.00000   506.000000     506.000000  \n",
       "mean   3053.44749  138823.11502  6547.619334  135534.645253  \n",
       "std    2960.05577   64619.91997  1837.557901   41830.850997  \n",
       "min       7.68000     213.12000     6.464000       0.102400  \n",
       "25%    1483.70250  101240.04000  6140.250000  140908.274275  \n",
       "50%    1933.35000  119658.91500  7078.025500  153225.273700  \n",
       "75%    2778.30000  160982.30250  7695.286500  156994.250700  \n",
       "max    9525.60000  282195.90000  8421.600000  157529.610000  \n",
       "\n",
       "[8 rows x 157 columns]"
      ]
     },
     "execution_count": 19,
     "metadata": {},
     "output_type": "execute_result"
    }
   ],
   "source": [
    "df2.describe()"
   ]
  },
  {
   "cell_type": "code",
   "execution_count": 20,
   "id": "e0443ee8",
   "metadata": {
    "execution": {
     "iopub.execute_input": "2022-04-10T07:57:33.419297Z",
     "iopub.status.busy": "2022-04-10T07:57:33.418687Z",
     "iopub.status.idle": "2022-04-10T07:57:33.422522Z",
     "shell.execute_reply": "2022-04-10T07:57:33.423028Z",
     "shell.execute_reply.started": "2022-04-10T07:54:53.249311Z"
    },
    "papermill": {
     "duration": 0.037017,
     "end_time": "2022-04-10T07:57:33.423240",
     "exception": false,
     "start_time": "2022-04-10T07:57:33.386223",
     "status": "completed"
    },
    "tags": []
   },
   "outputs": [],
   "source": [
    "x_train,x_test,y_train,y_test=train_test_split(x,y)"
   ]
  },
  {
   "cell_type": "code",
   "execution_count": 21,
   "id": "9c236a00",
   "metadata": {
    "execution": {
     "iopub.execute_input": "2022-04-10T07:57:33.490716Z",
     "iopub.status.busy": "2022-04-10T07:57:33.490063Z",
     "iopub.status.idle": "2022-04-10T07:57:33.492956Z",
     "shell.execute_reply": "2022-04-10T07:57:33.492475Z",
     "shell.execute_reply.started": "2022-04-10T07:54:55.355123Z"
    },
    "papermill": {
     "duration": 0.038183,
     "end_time": "2022-04-10T07:57:33.493096",
     "exception": false,
     "start_time": "2022-04-10T07:57:33.454913",
     "status": "completed"
    },
    "tags": []
   },
   "outputs": [],
   "source": [
    "model2=LinearRegression()"
   ]
  },
  {
   "cell_type": "code",
   "execution_count": 22,
   "id": "2e99610f",
   "metadata": {
    "execution": {
     "iopub.execute_input": "2022-04-10T07:57:33.558406Z",
     "iopub.status.busy": "2022-04-10T07:57:33.557819Z",
     "iopub.status.idle": "2022-04-10T07:57:33.575491Z",
     "shell.execute_reply": "2022-04-10T07:57:33.576338Z",
     "shell.execute_reply.started": "2022-04-10T07:54:57.470349Z"
    },
    "papermill": {
     "duration": 0.053319,
     "end_time": "2022-04-10T07:57:33.576608",
     "exception": false,
     "start_time": "2022-04-10T07:57:33.523289",
     "status": "completed"
    },
    "scrolled": true,
    "tags": []
   },
   "outputs": [
    {
     "data": {
      "text/plain": [
       "LinearRegression()"
      ]
     },
     "execution_count": 22,
     "metadata": {},
     "output_type": "execute_result"
    }
   ],
   "source": [
    "model2.fit(x_train,y_train)"
   ]
  },
  {
   "cell_type": "code",
   "execution_count": 23,
   "id": "9512933e",
   "metadata": {
    "execution": {
     "iopub.execute_input": "2022-04-10T07:57:33.703588Z",
     "iopub.status.busy": "2022-04-10T07:57:33.702289Z",
     "iopub.status.idle": "2022-04-10T07:57:33.705364Z",
     "shell.execute_reply": "2022-04-10T07:57:33.704519Z",
     "shell.execute_reply.started": "2022-04-10T07:54:58.576594Z"
    },
    "papermill": {
     "duration": 0.06792,
     "end_time": "2022-04-10T07:57:33.705581",
     "exception": false,
     "start_time": "2022-04-10T07:57:33.637661",
     "status": "completed"
    },
    "tags": []
   },
   "outputs": [],
   "source": [
    "y_pred2_train=model2.predict(x_train)"
   ]
  },
  {
   "cell_type": "code",
   "execution_count": 24,
   "id": "d14e325d",
   "metadata": {
    "execution": {
     "iopub.execute_input": "2022-04-10T07:57:33.834601Z",
     "iopub.status.busy": "2022-04-10T07:57:33.833322Z",
     "iopub.status.idle": "2022-04-10T07:57:33.836381Z",
     "shell.execute_reply": "2022-04-10T07:57:33.835523Z",
     "shell.execute_reply.started": "2022-04-10T07:54:59.489707Z"
    },
    "papermill": {
     "duration": 0.070655,
     "end_time": "2022-04-10T07:57:33.836603",
     "exception": false,
     "start_time": "2022-04-10T07:57:33.765948",
     "status": "completed"
    },
    "tags": []
   },
   "outputs": [],
   "source": [
    "y_pred2=model2.predict(x_test)"
   ]
  },
  {
   "cell_type": "code",
   "execution_count": 25,
   "id": "4dd8e384",
   "metadata": {
    "execution": {
     "iopub.execute_input": "2022-04-10T07:57:33.959885Z",
     "iopub.status.busy": "2022-04-10T07:57:33.959033Z",
     "iopub.status.idle": "2022-04-10T07:57:33.962198Z",
     "shell.execute_reply": "2022-04-10T07:57:33.962618Z",
     "shell.execute_reply.started": "2022-04-10T07:55:00.682766Z"
    },
    "papermill": {
     "duration": 0.064751,
     "end_time": "2022-04-10T07:57:33.962810",
     "exception": false,
     "start_time": "2022-04-10T07:57:33.898059",
     "status": "completed"
    },
    "tags": []
   },
   "outputs": [
    {
     "data": {
      "text/plain": [
       "0.9175942090693865"
      ]
     },
     "execution_count": 25,
     "metadata": {},
     "output_type": "execute_result"
    }
   ],
   "source": [
    "score2_train=metrics.r2_score(y_train,y_pred2_train)\n",
    "score2_train"
   ]
  },
  {
   "cell_type": "code",
   "execution_count": 26,
   "id": "4db84e0d",
   "metadata": {
    "execution": {
     "iopub.execute_input": "2022-04-10T07:57:34.027093Z",
     "iopub.status.busy": "2022-04-10T07:57:34.026184Z",
     "iopub.status.idle": "2022-04-10T07:57:34.031964Z",
     "shell.execute_reply": "2022-04-10T07:57:34.032501Z",
     "shell.execute_reply.started": "2022-04-10T07:53:40.006911Z"
    },
    "papermill": {
     "duration": 0.039782,
     "end_time": "2022-04-10T07:57:34.032681",
     "exception": false,
     "start_time": "2022-04-10T07:57:33.992899",
     "status": "completed"
    },
    "tags": []
   },
   "outputs": [
    {
     "data": {
      "text/plain": [
       "0.741908302510454"
      ]
     },
     "execution_count": 26,
     "metadata": {},
     "output_type": "execute_result"
    }
   ],
   "source": [
    "score2=metrics.r2_score(y_test,y_pred2)\n",
    "score2"
   ]
  },
  {
   "cell_type": "code",
   "execution_count": 27,
   "id": "9bf44d14",
   "metadata": {
    "execution": {
     "iopub.execute_input": "2022-04-10T07:57:34.099332Z",
     "iopub.status.busy": "2022-04-10T07:57:34.098403Z",
     "iopub.status.idle": "2022-04-10T07:57:34.291759Z",
     "shell.execute_reply": "2022-04-10T07:57:34.292191Z",
     "shell.execute_reply.started": "2022-04-10T07:53:40.036248Z"
    },
    "papermill": {
     "duration": 0.227158,
     "end_time": "2022-04-10T07:57:34.292384",
     "exception": false,
     "start_time": "2022-04-10T07:57:34.065226",
     "status": "completed"
    },
    "tags": []
   },
   "outputs": [
    {
     "data": {
      "text/plain": [
       "<matplotlib.collections.PathCollection at 0x7fb369949190>"
      ]
     },
     "execution_count": 27,
     "metadata": {},
     "output_type": "execute_result"
    },
    {
     "data": {
      "image/png": "[encoded data removed]",
      "text/plain": [
       "<Figure size 432x288 with 1 Axes>"
      ]
     },
     "metadata": {
      "needs_background": "light"
     },
     "output_type": "display_data"
    }
   ],
   "source": [
    "plt.scatter(y_test,y_pred2)"
   ]
  }
 ],
 "metadata": {
  "kernelspec": {
   "display_name": "Python 3",
   "language": "python",
   "name": "python3"
  },
  "language_info": {
   "codemirror_mode": {
    "name": "ipython",
    "version": 3
   },
   "file_extension": ".py",
   "mimetype": "text/x-python",
   "name": "python",
   "nbconvert_exporter": "python",
   "pygments_lexer": "ipython3",
   "version": "3.7.12"
  },
  "papermill": {
   "default_parameters": {},
   "duration": 14.003191,
   "end_time": "2022-04-10T07:57:35.034065",
   "environment_variables": {},
   "exception": null,
   "input_path": "__notebook__.ipynb",
   "output_path": "__notebook__.ipynb",
   "parameters": {},
   "start_time": "2022-04-10T07:57:21.030874",
   "version": "2.3.3"
  }
 },
 "nbformat": 4,
 "nbformat_minor": 5
}
